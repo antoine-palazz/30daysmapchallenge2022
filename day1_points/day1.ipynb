{
 "cells": [
  {
   "cell_type": "markdown",
   "id": "4637ba61-38b0-4d7e-926a-920aade175b4",
   "metadata": {
    "tags": []
   },
   "source": [
    "# Day 1: points\n",
    "\n",
    "We always say France is all about __cheese__ 🧀, let's prove that using maps based on official statistics open-data ! \n",
    "\n",
    "This notebook uses the following ressources:\n",
    "\n",
    "- Sirene data (official firms register) downloaded from the [`API Sirene`](https://api.insee.fr/catalogue/site/themes/wso2/subthemes/insee/pages/item-info.jag?name=Sirene&version=V3&provider=insee) thanks to `Python` package [`pynsee`](https://github.com/InseeFrLab/pynsee)\n",
    "- Geocoding based on address using [`API BAN`](https://api.gouv.fr/les-api/base-adresse-nationale)\n",
    "- Official France geographic borders fetched with [`cartiflette`](https://github.com/InseeFrLab/cartiflette) `Python` package"
   ]
  },
  {
   "cell_type": "markdown",
   "id": "a1dfad58-8596-4b73-a4e7-f1a6ea171409",
   "metadata": {},
   "source": [
    "## Preliminary steps\n",
    "\n",
    "### Dependencies\n",
    "\n",
    "To install all dependencies required to reproduce and extend this analysis, you need\n",
    "to install a few packages with the following lines.\n",
    "\n",
    "If your `pip install` does not know where to find `Git`, you can have a look to an alternative\n",
    "command at the end of the notebook."
   ]
  },
  {
   "cell_type": "code",
   "execution_count": null,
   "id": "8f482e56-4bfc-4ac9-88b6-08714c453acb",
   "metadata": {},
   "outputs": [],
   "source": [
    "!pip install -r requirements.txt\n",
    "!pip install git+https://github.com/inseefrlab/cartogether"
   ]
  },
  {
   "cell_type": "markdown",
   "id": "a315ea08-a1f5-46c5-a8be-a335f6baa4c4",
   "metadata": {},
   "source": [
    "<div class=\"alert alert-info\" role=\"alert\">\n",
    "<h3 class=\"alert-heading\">API Sirene </h3>\n",
    "The <code>API Sirene</code> is an official French API developped by Insee, the French national statistical office. \n",
    "Documentation can be found\n",
    "<a href=\"https://api.insee.fr/catalogue/site/themes/wso2/subthemes/insee/pages/item-info.jag?name=Sirene&version=V3&provider=insee\">here</a>\n",
    "(in French).\n",
    "<br>\n",
    "If you want to use it, you need to create an account, register to <code>API Sirene</code> service (free) and give \n",
    "<code>Python</code> your credentials (see below)\n",
    "</div>"
   ]
  },
  {
   "cell_type": "markdown",
   "id": "54406f72-7f45-4818-af53-f5bb1ed988b5",
   "metadata": {},
   "source": [
    "We propose to put the credentials for `API Sirene` authentification in a `secrets.yaml` file.\n",
    "This technique, that I teach [here](https://ensae-reproductibilite.netlify.app/application/#configyaml), avoids to share personal credentials in notebooks.  "
   ]
  },
  {
   "cell_type": "markdown",
   "id": "611a4efa-0825-49ac-97f6-fa31d118cf37",
   "metadata": {},
   "source": [
    "### Preparing authentification to `API Sirene`"
   ]
  },
  {
   "cell_type": "code",
   "execution_count": 10,
   "id": "db92a557-0fbe-40e5-8cf1-1587ace6b753",
   "metadata": {},
   "outputs": [],
   "source": [
    "import yaml\n",
    "import os\n",
    "\n",
    "with open('secrets.yaml', 'r') as file:\n",
    "    options = yaml.safe_load(file)\n",
    "\n",
    "os.environ['insee_key'] = options['insee_key']\n",
    "os.environ['insee_secret'] = options['insee_secret']"
   ]
  },
  {
   "cell_type": "markdown",
   "id": "114bc429-228f-40f5-a6d4-8cee8dcb09ad",
   "metadata": {},
   "source": [
    "## Getting French borders and French firm level codes\n",
    "\n",
    "In this section, we propose to fetch some elements that will be useful to be able to produce our maps easily:\n",
    "\n",
    "1. Get sector code from [French nomenclature of activities (NAF)](https://www.insee.fr/fr/information/2406147). This will\n",
    "prove useful to only request data we are interested in.\n",
    "2. Get French official border limits produced by the French institute for Geography (IGN)\n",
    "\n",
    "We use two experimental packages that are build to help analyzing official statistics data: [`pynsee`](https://github.com/InseeFrLab/pynsee) and\n",
    "[`cartiflette`](https://github.com/InseeFrLab/cartiflette)"
   ]
  },
  {
   "cell_type": "markdown",
   "id": "918ec387-cb47-4442-bb28-186502c2ec92",
   "metadata": {},
   "source": [
    "We can get the full nomenclature of activity list using an internal function of `pynsee` package:"
   ]
  },
  {
   "cell_type": "code",
   "execution_count": 14,
   "id": "e706bd93-72e6-4737-b854-9a5fe6a1437c",
   "metadata": {},
   "outputs": [
    {
     "name": "stdout",
     "output_type": "stream",
     "text": [
      "This function renders package's internal data\n"
     ]
    },
    {
     "data": {
      "text/html": [
       "<div>\n",
       "<style scoped>\n",
       "    .dataframe tbody tr th:only-of-type {\n",
       "        vertical-align: middle;\n",
       "    }\n",
       "\n",
       "    .dataframe tbody tr th {\n",
       "        vertical-align: top;\n",
       "    }\n",
       "\n",
       "    .dataframe thead th {\n",
       "        text-align: right;\n",
       "    }\n",
       "</style>\n",
       "<table border=\"1\" class=\"dataframe\">\n",
       "  <thead>\n",
       "    <tr style=\"text-align: right;\">\n",
       "      <th></th>\n",
       "      <th>A10</th>\n",
       "      <th>A129</th>\n",
       "      <th>A17</th>\n",
       "      <th>A21</th>\n",
       "      <th>A38</th>\n",
       "      <th>A5</th>\n",
       "      <th>A64</th>\n",
       "      <th>A88</th>\n",
       "      <th>NAF1</th>\n",
       "      <th>NAF2</th>\n",
       "      <th>NAF3</th>\n",
       "      <th>NAF4</th>\n",
       "      <th>NAF5</th>\n",
       "      <th>TITLE_NAF5_40CH_FR</th>\n",
       "      <th>TITLE_NAF5_65CH_FR</th>\n",
       "      <th>TITLE_NAF5_FR</th>\n",
       "    </tr>\n",
       "  </thead>\n",
       "  <tbody>\n",
       "    <tr>\n",
       "      <th>386</th>\n",
       "      <td>GI</td>\n",
       "      <td>G46Z</td>\n",
       "      <td>GZ</td>\n",
       "      <td>G</td>\n",
       "      <td>GZ</td>\n",
       "      <td>GU</td>\n",
       "      <td>GZ2</td>\n",
       "      <td>46</td>\n",
       "      <td>G</td>\n",
       "      <td>46</td>\n",
       "      <td>46.1</td>\n",
       "      <td>46.19</td>\n",
       "      <td>46.19B</td>\n",
       "      <td>Autre interm. commerce en prodts divers</td>\n",
       "      <td>Autres intermédiaires du commerce en produits ...</td>\n",
       "      <td>Autres intermédiaires du commerce en produits ...</td>\n",
       "    </tr>\n",
       "    <tr>\n",
       "      <th>445</th>\n",
       "      <td>GI</td>\n",
       "      <td>G47Z</td>\n",
       "      <td>GZ</td>\n",
       "      <td>G</td>\n",
       "      <td>GZ</td>\n",
       "      <td>GU</td>\n",
       "      <td>GZ3</td>\n",
       "      <td>47</td>\n",
       "      <td>G</td>\n",
       "      <td>47</td>\n",
       "      <td>47.2</td>\n",
       "      <td>47.24</td>\n",
       "      <td>47.24Z</td>\n",
       "      <td>Comm. dét. pain pâtiss. &amp; confiser. (ms)</td>\n",
       "      <td>Comm. détail pain pâtisserie &amp; confiserie (mag...</td>\n",
       "      <td>Commerce de détail de pain, pâtisserie et conf...</td>\n",
       "    </tr>\n",
       "    <tr>\n",
       "      <th>129</th>\n",
       "      <td>BE</td>\n",
       "      <td>C17B</td>\n",
       "      <td>C5</td>\n",
       "      <td>C</td>\n",
       "      <td>CC</td>\n",
       "      <td>BE</td>\n",
       "      <td>CC2</td>\n",
       "      <td>17</td>\n",
       "      <td>C</td>\n",
       "      <td>17</td>\n",
       "      <td>17.2</td>\n",
       "      <td>17.21</td>\n",
       "      <td>17.21A</td>\n",
       "      <td>Fabrication de carton ondulé</td>\n",
       "      <td>Fabrication de carton ondulé</td>\n",
       "      <td>Fabrication de carton ondulé</td>\n",
       "    </tr>\n",
       "    <tr>\n",
       "      <th>312</th>\n",
       "      <td>BE</td>\n",
       "      <td>C33Z</td>\n",
       "      <td>C5</td>\n",
       "      <td>C</td>\n",
       "      <td>CM</td>\n",
       "      <td>BE</td>\n",
       "      <td>CM2</td>\n",
       "      <td>33</td>\n",
       "      <td>C</td>\n",
       "      <td>33</td>\n",
       "      <td>33.2</td>\n",
       "      <td>33.20</td>\n",
       "      <td>33.20D</td>\n",
       "      <td>Inst. éqpt élec. électro. optiq. ou aut.</td>\n",
       "      <td>Instal. éqpts électriq, mat. électro. et optiq...</td>\n",
       "      <td>Installation d'équipements électriques, de mat...</td>\n",
       "    </tr>\n",
       "    <tr>\n",
       "      <th>238</th>\n",
       "      <td>BE</td>\n",
       "      <td>C26F</td>\n",
       "      <td>C3</td>\n",
       "      <td>C</td>\n",
       "      <td>CI</td>\n",
       "      <td>BE</td>\n",
       "      <td>CI0</td>\n",
       "      <td>26</td>\n",
       "      <td>C</td>\n",
       "      <td>26</td>\n",
       "      <td>26.6</td>\n",
       "      <td>26.60</td>\n",
       "      <td>26.60Z</td>\n",
       "      <td>Fab. éqpt irrad. médic. &amp; électromedic.</td>\n",
       "      <td>Fab. éqpts d'irradiation médic. électromédic. ...</td>\n",
       "      <td>Fabrication d'équipements d'irradiation médica...</td>\n",
       "    </tr>\n",
       "  </tbody>\n",
       "</table>\n",
       "</div>"
      ],
      "text/plain": [
       "    A10  A129 A17 A21 A38  A5  A64 A88 NAF1 NAF2  NAF3   NAF4    NAF5  \\\n",
       "386  GI  G46Z  GZ   G  GZ  GU  GZ2  46    G   46  46.1  46.19  46.19B   \n",
       "445  GI  G47Z  GZ   G  GZ  GU  GZ3  47    G   47  47.2  47.24  47.24Z   \n",
       "129  BE  C17B  C5   C  CC  BE  CC2  17    C   17  17.2  17.21  17.21A   \n",
       "312  BE  C33Z  C5   C  CM  BE  CM2  33    C   33  33.2  33.20  33.20D   \n",
       "238  BE  C26F  C3   C  CI  BE  CI0  26    C   26  26.6  26.60  26.60Z   \n",
       "\n",
       "                           TITLE_NAF5_40CH_FR  \\\n",
       "386   Autre interm. commerce en prodts divers   \n",
       "445  Comm. dét. pain pâtiss. & confiser. (ms)   \n",
       "129              Fabrication de carton ondulé   \n",
       "312  Inst. éqpt élec. électro. optiq. ou aut.   \n",
       "238   Fab. éqpt irrad. médic. & électromedic.   \n",
       "\n",
       "                                    TITLE_NAF5_65CH_FR  \\\n",
       "386  Autres intermédiaires du commerce en produits ...   \n",
       "445  Comm. détail pain pâtisserie & confiserie (mag...   \n",
       "129                       Fabrication de carton ondulé   \n",
       "312  Instal. éqpts électriq, mat. électro. et optiq...   \n",
       "238  Fab. éqpts d'irradiation médic. électromédic. ...   \n",
       "\n",
       "                                         TITLE_NAF5_FR  \n",
       "386  Autres intermédiaires du commerce en produits ...  \n",
       "445  Commerce de détail de pain, pâtisserie et conf...  \n",
       "129                       Fabrication de carton ondulé  \n",
       "312  Installation d'équipements électriques, de mat...  \n",
       "238  Fabrication d'équipements d'irradiation médica...  "
      ]
     },
     "execution_count": 14,
     "metadata": {},
     "output_type": "execute_result"
    }
   ],
   "source": [
    "import pynsee\n",
    "naf5 = pynsee.get_activity_list('NAF5')\n",
    "\n",
    "naf5.sample(5)"
   ]
  },
  {
   "cell_type": "markdown",
   "id": "e8de9da1-0fd0-487c-8626-b5b2ec0bd27e",
   "metadata": {},
   "source": [
    "If we want to know the code for cheese factories, we can use the following code:"
   ]
  },
  {
   "cell_type": "code",
   "execution_count": 16,
   "id": "dc47e2b5-1587-4fc1-a77b-0f42f87bd463",
   "metadata": {},
   "outputs": [
    {
     "data": {
      "text/html": [
       "<div>\n",
       "<style scoped>\n",
       "    .dataframe tbody tr th:only-of-type {\n",
       "        vertical-align: middle;\n",
       "    }\n",
       "\n",
       "    .dataframe tbody tr th {\n",
       "        vertical-align: top;\n",
       "    }\n",
       "\n",
       "    .dataframe thead th {\n",
       "        text-align: right;\n",
       "    }\n",
       "</style>\n",
       "<table border=\"1\" class=\"dataframe\">\n",
       "  <thead>\n",
       "    <tr style=\"text-align: right;\">\n",
       "      <th></th>\n",
       "      <th>A10</th>\n",
       "      <th>A129</th>\n",
       "      <th>A17</th>\n",
       "      <th>A21</th>\n",
       "      <th>A38</th>\n",
       "      <th>A5</th>\n",
       "      <th>A64</th>\n",
       "      <th>A88</th>\n",
       "      <th>NAF1</th>\n",
       "      <th>NAF2</th>\n",
       "      <th>NAF3</th>\n",
       "      <th>NAF4</th>\n",
       "      <th>NAF5</th>\n",
       "      <th>TITLE_NAF5_40CH_FR</th>\n",
       "      <th>TITLE_NAF5_65CH_FR</th>\n",
       "      <th>TITLE_NAF5_FR</th>\n",
       "    </tr>\n",
       "  </thead>\n",
       "  <tbody>\n",
       "    <tr>\n",
       "      <th>68</th>\n",
       "      <td>BE</td>\n",
       "      <td>C10E</td>\n",
       "      <td>C1</td>\n",
       "      <td>C</td>\n",
       "      <td>CA</td>\n",
       "      <td>BE</td>\n",
       "      <td>CA0</td>\n",
       "      <td>10</td>\n",
       "      <td>C</td>\n",
       "      <td>10</td>\n",
       "      <td>10.5</td>\n",
       "      <td>10.51</td>\n",
       "      <td>10.51C</td>\n",
       "      <td>Fabrication de fromage</td>\n",
       "      <td>Fabrication de fromage</td>\n",
       "      <td>Fabrication de fromage</td>\n",
       "    </tr>\n",
       "  </tbody>\n",
       "</table>\n",
       "</div>"
      ],
      "text/plain": [
       "   A10  A129 A17 A21 A38  A5  A64 A88 NAF1 NAF2  NAF3   NAF4    NAF5  \\\n",
       "68  BE  C10E  C1   C  CA  BE  CA0  10    C   10  10.5  10.51  10.51C   \n",
       "\n",
       "        TITLE_NAF5_40CH_FR      TITLE_NAF5_65CH_FR           TITLE_NAF5_FR  \n",
       "68  Fabrication de fromage  Fabrication de fromage  Fabrication de fromage  "
      ]
     },
     "execution_count": 16,
     "metadata": {},
     "output_type": "execute_result"
    }
   ],
   "source": [
    "naf5.loc[naf5['TITLE_NAF5_FR'].str.contains('fromage')]"
   ]
  },
  {
   "cell_type": "markdown",
   "id": "34b81f32-3c5f-4a32-8ce2-b6cae54aecb8",
   "metadata": {},
   "source": [
    "Finally, to get the official French borders, we can use `cartiflette` experimental function:"
   ]
  },
  {
   "cell_type": "code",
   "execution_count": 21,
   "id": "a436eb93-257f-4f2f-9c35-4680dbcce015",
   "metadata": {},
   "outputs": [
    {
     "name": "stdout",
     "output_type": "stream",
     "text": [
      "opendatarchives\n",
      "COG\n"
     ]
    },
    {
     "name": "stderr",
     "output_type": "stream",
     "text": [
      "Downloading: 100%|██████████| 244M/244M [01:46<00:00, 2.41MiB/s] \n",
      "ERROR 1: PROJ: proj_create_from_database: Open of /opt/mamba/share/proj failed\n"
     ]
    }
   ],
   "source": [
    "from cartiflette.download import get_vectorfile_ign\n",
    "\n",
    "france = get_vectorfile_ign(\n",
    "  level = \"REGION\",\n",
    "  field = \"metropole\",\n",
    "  source = \"COG\",\n",
    "  provider=\"opendatarchives\"\n",
    "  )\n",
    "france = france.dissolve()"
   ]
  },
  {
   "cell_type": "markdown",
   "id": "00dbfbe8-6028-477d-bc76-50a002726d54",
   "metadata": {},
   "source": [
    "We reported some functions to automatize downloads in a `functions.py`"
   ]
  },
  {
   "cell_type": "code",
   "execution_count": 28,
   "id": "cc29ed13-5aa2-4c25-a8e2-90d31959d9f9",
   "metadata": {
    "tags": []
   },
   "outputs": [],
   "source": [
    "import functions as fc"
   ]
  },
  {
   "cell_type": "markdown",
   "id": "d4ac6ac9-6a9b-425b-bb03-10949f59ead4",
   "metadata": {},
   "source": [
    "## Cheese producers map 🧀\n",
    "\n",
    "Putting together all elements, we can use `matplotlib` and `contextily` features to get a nice\n",
    "map.\n",
    "\n",
    "We first fetch the data using Sirene API and transform in `GeoPandas DataFrame` to get a geographic object:"
   ]
  },
  {
   "cell_type": "code",
   "execution_count": 33,
   "id": "7a9e4cb2-4fbb-4e5c-91fe-cc97d7505a35",
   "metadata": {},
   "outputs": [
    {
     "name": "stdout",
     "output_type": "stream",
     "text": [
      "--- 8.33044171333313 seconds ---\n"
     ]
    }
   ],
   "source": [
    "import geopandas as gpd\n",
    "\n",
    "geodata_complete = fc.geoloc_data(\n",
    "    fc.create_dataset_sirene()\n",
    ")\n",
    "gdf = gpd.GeoDataFrame(\n",
    "    geodata_complete,\n",
    "    geometry=gpd.points_from_xy(geodata_complete['longitude'], geodata_complete['latitude']),\n",
    "    crs=4326)"
   ]
  },
  {
   "cell_type": "code",
   "execution_count": null,
   "id": "534254ba-cf31-4af0-88a8-cc4a8b40e87c",
   "metadata": {},
   "outputs": [],
   "source": [
    "import contextily as ctx\n",
    "import matplotlib.pyplot as plt\n",
    "\n",
    "txt=\"Twitter: @linogaliana\\nSource: IGN - Insee \"\n",
    "\n",
    "ax = gdf.to_crs(2154).plot(color = 'red', alpha = 0.5, markersize = 2, figsize = (7,7))\n",
    "france.plot(ax = ax, zorder=1, edgecolor = \"black\", alpha = 0.6, facecolor=\"none\",\n",
    "                                                           color = None)\n",
    "ctx.add_basemap(ax, source = ctx.providers.Stamen.Watercolor, crs = 2154)\n",
    "ax.set_axis_off()\n",
    "ax.set_title('Cheese producers in France')\n",
    "plt.figtext(.2, .03, txt, wrap=True, horizontalalignment='left', fontsize=8)"
   ]
  },
  {
   "cell_type": "markdown",
   "id": "66672ff5-bdcb-4a74-8cf6-aeffdfda2c3e",
   "metadata": {},
   "source": [
    "## Cows breeders 🐄"
   ]
  },
  {
   "cell_type": "code",
   "execution_count": null,
   "id": "86f4b091-b6ac-4c5d-978b-f5e6b4fd3398",
   "metadata": {},
   "outputs": [],
   "source": [
    "geopandas_vaches = geoloc_data(\n",
    "    create_dataset_sirene(\"01.41Z\")\n",
    ")\n",
    "geopandas_vaches = gpd.GeoDataFrame(\n",
    "    geopandas_vaches,\n",
    "    geometry=gpd.points_from_xy(geopandas_vaches['longitude'], geopandas_vaches['latitude']),\n",
    "    crs=4326)\n",
    "ax = geopandas_vaches.to_crs(2154).plot(color = 'red', alpha = 0.5, markersize = 2)\n",
    "france.plot(ax = ax, zorder=1, edgecolor = \"black\", alpha = 0.6, facecolor=\"none\",\n",
    "                                                           color = None)\n",
    "ctx.add_basemap(ax, source = ctx.providers.Stamen.Watercolor, crs = 2154)\n",
    "ax.set_axis_off()"
   ]
  },
  {
   "cell_type": "markdown",
   "id": "11fff60d-7111-4d1e-9db4-b6450b9ba0d1",
   "metadata": {},
   "source": [
    "## Camel breeders 🐪"
   ]
  },
  {
   "cell_type": "code",
   "execution_count": null,
   "id": "c96f45b5-bd63-4a23-ac2e-445f278ffef2",
   "metadata": {},
   "outputs": [],
   "source": [
    "geopandas_chameaux = geoloc_data(\n",
    "    create_dataset_sirene(\"01.44Z\")\n",
    ")"
   ]
  },
  {
   "cell_type": "code",
   "execution_count": null,
   "id": "739d5184-0f73-48e8-97f0-618289c4a815",
   "metadata": {},
   "outputs": [],
   "source": [
    "gdf_chameaux = gpd.GeoDataFrame(\n",
    "    geopandas_chameaux,\n",
    "    geometry=gpd.points_from_xy(geopandas_chameaux['longitude'], geopandas_chameaux['latitude']),\n",
    "    crs=4326)"
   ]
  },
  {
   "cell_type": "code",
   "execution_count": null,
   "id": "19b6289e-553b-480a-bfa5-fd70877c1ee3",
   "metadata": {},
   "outputs": [],
   "source": [
    "ax = gdf_chameaux.to_crs(2154).plot(color = 'red', alpha = 0.5, markersize = 2, figsize = (7,7))\n",
    "france.plot(ax = ax, zorder=1, edgecolor = \"black\", alpha = 0.6, facecolor=\"none\",\n",
    "                                                           color = None)\n",
    "ctx.add_basemap(ax, source = ctx.providers.Stamen.Watercolor, crs = 2154)\n",
    "ax.set_axis_off()"
   ]
  },
  {
   "cell_type": "markdown",
   "id": "b327f24e-3d5e-49d8-af03-85eb064a2f1c",
   "metadata": {},
   "source": [
    "## Installations"
   ]
  },
  {
   "cell_type": "code",
   "execution_count": null,
   "id": "c83dbda4-6ee1-4895-83ea-8586f57f1ef0",
   "metadata": {},
   "outputs": [],
   "source": [
    "!pip install pynsee"
   ]
  },
  {
   "cell_type": "code",
   "execution_count": null,
   "id": "1ac6cc98-82a6-455d-8e05-1ac0e0281501",
   "metadata": {},
   "outputs": [],
   "source": [
    "!git clone https://github.com/InseeFrLab/cartogether.git\n",
    "%cd ./cartogether\n",
    "!pip install -r requirements.txt\n",
    "!pip install ."
   ]
  }
 ],
 "metadata": {
  "kernelspec": {
   "display_name": "Python 3 (ipykernel)",
   "language": "python",
   "name": "python3"
  },
  "language_info": {
   "codemirror_mode": {
    "name": "ipython",
    "version": 3
   },
   "file_extension": ".py",
   "mimetype": "text/x-python",
   "name": "python",
   "nbconvert_exporter": "python",
   "pygments_lexer": "ipython3",
   "version": "3.10.4"
  }
 },
 "nbformat": 4,
 "nbformat_minor": 5
}
