{
 "cells": [
  {
   "cell_type": "markdown",
   "id": "4637ba61-38b0-4d7e-926a-920aade175b4",
   "metadata": {
    "tags": []
   },
   "source": [
    "# Day 1: points\n",
    "\n",
    "Des cartes de France à partir des localisations des entreprises.\n",
    "\n",
    "- Données Sirene récupérées via l'[API Sirene](https://api.insee.fr/catalogue/site/themes/wso2/subthemes/insee/pages/item-info.jag?name=Sirene&version=V3&provider=insee) à partir du package [pynsee](https://github.com/InseeFrLab/pynsee)\n",
    "- Géolocalisation effectuée avec l'[API BAN](https://api.gouv.fr/les-api/base-adresse-nationale)\n",
    "- Récupération du fonds de carte France métropolitaine grâce au package [cartiflette](https://github.com/InseeFrLab/cartiflette)\n",
    "\n",
    "Voir la section `Installation` pour l'installation des dépendances"
   ]
  },
  {
   "cell_type": "markdown",
   "id": "a1dfad58-8596-4b73-a4e7-f1a6ea171409",
   "metadata": {},
   "source": [
    "## Etapes préliminaires"
   ]
  },
  {
   "cell_type": "code",
   "execution_count": null,
   "id": "ba467d54-fbcb-48e3-98d0-f2cf9911840c",
   "metadata": {},
   "outputs": [],
   "source": [
    "!pip install -r requirements.txt"
   ]
  },
  {
   "cell_type": "code",
   "execution_count": null,
   "id": "25810f86-dac0-4d6b-93fa-e3c036e44d43",
   "metadata": {},
   "outputs": [],
   "source": [
    "import pynsee\n",
    "from cartiflette.download import get_vectorfile_ign"
   ]
  },
  {
   "cell_type": "code",
   "execution_count": null,
   "id": "86a47789-c28c-4695-b03b-6007a0e0a9e9",
   "metadata": {},
   "outputs": [],
   "source": [
    "import os\n",
    "os.environ['insee_key'] = 'TO COMPLETE'\n",
    "os.environ['insee_secret'] = 'TO COMPLETE'"
   ]
  },
  {
   "cell_type": "code",
   "execution_count": null,
   "id": "e706bd93-72e6-4737-b854-9a5fe6a1437c",
   "metadata": {},
   "outputs": [],
   "source": [
    "# get activity list\n",
    "naf5 = pynsee.get_activity_list('NAF5')\n",
    "\n",
    "naf5.sample(5)"
   ]
  },
  {
   "cell_type": "code",
   "execution_count": null,
   "id": "cc29ed13-5aa2-4c25-a8e2-90d31959d9f9",
   "metadata": {
    "tags": []
   },
   "outputs": [],
   "source": [
    "import functions as fc"
   ]
  },
  {
   "cell_type": "code",
   "execution_count": null,
   "id": "a436eb93-257f-4f2f-9c35-4680dbcce015",
   "metadata": {},
   "outputs": [],
   "source": [
    "france = get_vectorfile_ign(\n",
    "  level = \"REGION\",\n",
    "  field = \"metropole\",\n",
    "  source = \"COG\",\n",
    "  provider=\"opendatarchives\"\n",
    "  )\n",
    "france = france.dissolve()"
   ]
  },
  {
   "cell_type": "markdown",
   "id": "d4ac6ac9-6a9b-425b-bb03-10949f59ead4",
   "metadata": {},
   "source": [
    "## Localisation des producteurs de fromage"
   ]
  },
  {
   "cell_type": "code",
   "execution_count": null,
   "id": "7a9e4cb2-4fbb-4e5c-91fe-cc97d7505a35",
   "metadata": {},
   "outputs": [],
   "source": [
    "geopandas_complete = geoloc_data(\n",
    "    create_dataset_sirene()\n",
    ")"
   ]
  },
  {
   "cell_type": "code",
   "execution_count": null,
   "id": "97905ea4-2dce-4220-a9f7-13a5ba6271f7",
   "metadata": {},
   "outputs": [],
   "source": [
    "gdf = gpd.GeoDataFrame(\n",
    "    geodata_complete,\n",
    "    geometry=gpd.points_from_xy(geodata_complete['longitude'], geodata_complete['latitude']),\n",
    "    crs=4326)"
   ]
  },
  {
   "cell_type": "code",
   "execution_count": null,
   "id": "534254ba-cf31-4af0-88a8-cc4a8b40e87c",
   "metadata": {},
   "outputs": [],
   "source": [
    "ax = gdf.to_crs(2154).plot(color = 'red', alpha = 0.5, markersize = 2)\n",
    "france.plot(ax = ax, zorder=1, edgecolor = \"black\", alpha = 0.6, facecolor=\"none\",\n",
    "                                                           color = None)\n",
    "ctx.add_basemap(ax, source = ctx.providers.Stamen.Watercolor, crs = 2154)\n",
    "ax.set_axis_off()"
   ]
  },
  {
   "cell_type": "markdown",
   "id": "11fff60d-7111-4d1e-9db4-b6450b9ba0d1",
   "metadata": {},
   "source": [
    "## Localisation des éleveurs de chameaux"
   ]
  },
  {
   "cell_type": "code",
   "execution_count": null,
   "id": "c96f45b5-bd63-4a23-ac2e-445f278ffef2",
   "metadata": {},
   "outputs": [],
   "source": [
    "geopandas_chameaux = geoloc_data(\n",
    "    create_dataset_sirene(\"01.44Z\")\n",
    ")"
   ]
  },
  {
   "cell_type": "code",
   "execution_count": null,
   "id": "739d5184-0f73-48e8-97f0-618289c4a815",
   "metadata": {},
   "outputs": [],
   "source": [
    "gdf_chameaux = gpd.GeoDataFrame(\n",
    "    geopandas_chameaux,\n",
    "    geometry=gpd.points_from_xy(geopandas_chameaux['longitude'], geopandas_chameaux['latitude']),\n",
    "    crs=4326)"
   ]
  },
  {
   "cell_type": "code",
   "execution_count": null,
   "id": "19b6289e-553b-480a-bfa5-fd70877c1ee3",
   "metadata": {},
   "outputs": [],
   "source": [
    "ax = gdf_chameaux.to_crs(2154).plot(color = 'red', alpha = 0.5, markersize = 2)\n",
    "france.plot(ax = ax, zorder=1, edgecolor = \"black\", alpha = 0.6, facecolor=\"none\",\n",
    "                                                           color = None)\n",
    "ctx.add_basemap(ax, source = ctx.providers.Stamen.Watercolor, crs = 2154)\n",
    "ax.set_axis_off()"
   ]
  },
  {
   "cell_type": "markdown",
   "id": "66672ff5-bdcb-4a74-8cf6-aeffdfda2c3e",
   "metadata": {},
   "source": [
    "## Localisation des éleveurs de vache"
   ]
  },
  {
   "cell_type": "code",
   "execution_count": null,
   "id": "86f4b091-b6ac-4c5d-978b-f5e6b4fd3398",
   "metadata": {},
   "outputs": [],
   "source": [
    "geopandas_vaches = geoloc_data(\n",
    "    create_dataset_sirene(\"01.41Z\")\n",
    ")\n",
    "geopandas_vaches = gpd.GeoDataFrame(\n",
    "    geopandas_vaches,\n",
    "    geometry=gpd.points_from_xy(geopandas_vaches['longitude'], geopandas_vaches['latitude']),\n",
    "    crs=4326)\n",
    "ax = geopandas_vaches.to_crs(2154).plot(color = 'red', alpha = 0.5, markersize = 2)\n",
    "france.plot(ax = ax, zorder=1, edgecolor = \"black\", alpha = 0.6, facecolor=\"none\",\n",
    "                                                           color = None)\n",
    "ctx.add_basemap(ax, source = ctx.providers.Stamen.Watercolor, crs = 2154)\n",
    "ax.set_axis_off()"
   ]
  },
  {
   "cell_type": "code",
   "execution_count": null,
   "id": "3373b2fb-3b28-4297-9416-8fdc027c3dd6",
   "metadata": {},
   "outputs": [],
   "source": [
    "geopandas_boulangers = geoloc_data(\n",
    "    create_dataset_sirene_dep(\"47.24Z\")\n",
    ")\n",
    "geopandas_boulangers = gpd.GeoDataFrame(\n",
    "    geopandas_boulangers,\n",
    "    geometry=gpd.points_from_xy(geopandas_boulangers['longitude'], geopandas_boulangers['latitude']),\n",
    "    crs=4326)"
   ]
  },
  {
   "cell_type": "markdown",
   "id": "b327f24e-3d5e-49d8-af03-85eb064a2f1c",
   "metadata": {},
   "source": [
    "## Installations"
   ]
  },
  {
   "cell_type": "code",
   "execution_count": null,
   "id": "c83dbda4-6ee1-4895-83ea-8586f57f1ef0",
   "metadata": {},
   "outputs": [],
   "source": [
    "!pip install pynsee"
   ]
  },
  {
   "cell_type": "code",
   "execution_count": null,
   "id": "1ac6cc98-82a6-455d-8e05-1ac0e0281501",
   "metadata": {},
   "outputs": [],
   "source": [
    "!git clone https://github.com/InseeFrLab/cartogether.git\n",
    "%cd ./cartogether\n",
    "!pip install -r requirements.txt\n",
    "!pip install ."
   ]
  }
 ],
 "metadata": {
  "kernelspec": {
   "display_name": "Python 3 (ipykernel)",
   "language": "python",
   "name": "python3"
  },
  "language_info": {
   "codemirror_mode": {
    "name": "ipython",
    "version": 3
   },
   "file_extension": ".py",
   "mimetype": "text/x-python",
   "name": "python",
   "nbconvert_exporter": "python",
   "pygments_lexer": "ipython3",
   "version": "3.10.4"
  }
 },
 "nbformat": 4,
 "nbformat_minor": 5
}
