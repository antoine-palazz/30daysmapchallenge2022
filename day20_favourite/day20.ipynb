{
 "cells": [
  {
   "cell_type": "code",
   "execution_count": 52,
   "id": "9f484df2-5ac1-4aa3-89c1-57b67aa1cc70",
   "metadata": {},
   "outputs": [
    {
     "name": "stdout",
     "output_type": "stream",
     "text": [
      "Requirement already satisfied: requests in /opt/mamba/lib/python3.10/site-packages (from -r requirements.txt (line 1)) (2.28.1)\n",
      "Collecting bs4\n",
      "  Downloading bs4-0.0.1.tar.gz (1.1 kB)\n",
      "  Preparing metadata (setup.py) ... \u001b[?25ldone\n",
      "\u001b[?25hRequirement already satisfied: charset-normalizer<3,>=2 in /opt/mamba/lib/python3.10/site-packages (from requests->-r requirements.txt (line 1)) (2.1.1)\n",
      "Requirement already satisfied: urllib3<1.27,>=1.21.1 in /opt/mamba/lib/python3.10/site-packages (from requests->-r requirements.txt (line 1)) (1.26.11)\n",
      "Requirement already satisfied: idna<4,>=2.5 in /opt/mamba/lib/python3.10/site-packages (from requests->-r requirements.txt (line 1)) (3.4)\n",
      "Requirement already satisfied: certifi>=2017.4.17 in /opt/mamba/lib/python3.10/site-packages (from requests->-r requirements.txt (line 1)) (2022.9.24)\n",
      "Requirement already satisfied: beautifulsoup4 in /opt/mamba/lib/python3.10/site-packages (from bs4->-r requirements.txt (line 2)) (4.11.1)\n",
      "Requirement already satisfied: soupsieve>1.2 in /opt/mamba/lib/python3.10/site-packages (from beautifulsoup4->bs4->-r requirements.txt (line 2)) (2.3.2.post1)\n",
      "Building wheels for collected packages: bs4\n",
      "  Building wheel for bs4 (setup.py) ... \u001b[?25ldone\n",
      "\u001b[?25h  Created wheel for bs4: filename=bs4-0.0.1-py3-none-any.whl size=1257 sha256=92b1029775d074b2d7e98536b9527bf91ba001270e8688f03e7ee7c67304c17c\n",
      "  Stored in directory: /home/onyxia/.cache/pip/wheels/e4/62/1d/d4d1bc4f33350ff84227f89b258edb552d604138e3739f5c83\n",
      "Successfully built bs4\n",
      "Installing collected packages: bs4\n",
      "Successfully installed bs4-0.0.1\n"
     ]
    }
   ],
   "source": [
    "!pip install -r requirements.txt"
   ]
  },
  {
   "cell_type": "code",
   "execution_count": 80,
   "id": "dffe24b7-10f5-438c-a950-7d7b1ec562e0",
   "metadata": {},
   "outputs": [],
   "source": [
    "import requests\n",
    "from bs4 import BeautifulSoup\n",
    "from tqdm import tqdm\n",
    "import pandas as pd"
   ]
  },
  {
   "cell_type": "code",
   "execution_count": 54,
   "id": "8e10100a-7d3d-4901-bb8e-50891dc0f296",
   "metadata": {},
   "outputs": [],
   "source": [
    "import functions as fc"
   ]
  },
  {
   "cell_type": "code",
   "execution_count": null,
   "id": "868cc5ce-2d6f-4bf4-86d1-d277bad69b68",
   "metadata": {},
   "outputs": [],
   "source": [
    "url_ffe = 'http://www.echecs.asso.fr/'\n",
    "suffix_all_clubs = 'ListeClubs.aspx?Action=CLUBCOMITE&ComiteRef='"
   ]
  },
  {
   "cell_type": "markdown",
   "id": "9a47db68-dfcd-4a2b-89fb-c511fa0a0127",
   "metadata": {},
   "source": [
    "## Faire liste clubs"
   ]
  },
  {
   "cell_type": "code",
   "execution_count": 57,
   "id": "983c6480-dc82-4202-9a25-6b1aca2cfe96",
   "metadata": {},
   "outputs": [],
   "source": [
    "def get_infos_club_from_row(row):\n",
    "    fields = row.find_all('td')\n",
    "    departement = fields[0].text.strip()\n",
    "    commune = fields[1].text.strip()\n",
    "    club = fields[2].text.strip()\n",
    "    try:\n",
    "        suffix_club = fields[2].find('a').get('href')\n",
    "    except:\n",
    "        suffix_club = None\n",
    "    return [club, suffix_club, commune, departement]"
   ]
  },
  {
   "cell_type": "code",
   "execution_count": 67,
   "id": "b47780b7-875a-4b13-934c-c1b1707d7bf8",
   "metadata": {},
   "outputs": [],
   "source": [
    "def get_all_clubs_in_departement(departement):\n",
    "    \n",
    "    liste_clubs_departement = []\n",
    "    \n",
    "    url = url_ffe + suffix_all_clubs + \"{:02d}\".format(departement)\n",
    "    request_text = requests.get(url).text\n",
    "    soup = BeautifulSoup(request_text, 'html.parser')\n",
    "    \n",
    "    try:\n",
    "        zone = soup.find('div', {'class':'page-mid'})\n",
    "        tableau = zone.find('table')\n",
    "        rows = tableau.find_all('tr')\n",
    "\n",
    "        for i in range(1,len(rows)):\n",
    "            liste_clubs_departement.append(get_infos_club_from_row(rows[i]))\n",
    "    except:\n",
    "        pass\n",
    "    return liste_clubs_departement"
   ]
  },
  {
   "cell_type": "code",
   "execution_count": 75,
   "id": "a4dc3fe7-e6b0-4e4a-bfdd-64ef74280819",
   "metadata": {},
   "outputs": [],
   "source": [
    "def get_all_clubs_france():\n",
    "    liste_clubs = []\n",
    "    for departement in tqdm(range(100)):\n",
    "        liste_clubs += get_all_clubs_in_departement(departement)\n",
    "    return liste_clubs"
   ]
  },
  {
   "cell_type": "code",
   "execution_count": 76,
   "id": "0429cd82-fdef-4d10-97ea-45ae3b8584ce",
   "metadata": {},
   "outputs": [
    {
     "name": "stderr",
     "output_type": "stream",
     "text": [
      "100%|██████████| 100/100 [00:11<00:00,  8.99it/s]\n"
     ]
    }
   ],
   "source": [
    "liste_clubs = get_all_clubs_france()"
   ]
  },
  {
   "cell_type": "code",
   "execution_count": 83,
   "id": "612290fd-c08e-4dfd-9e28-55471bb9e6bd",
   "metadata": {},
   "outputs": [],
   "source": [
    "df_clubs = pd.DataFrame(liste_clubs, columns = ['club_name', 'suffix_url', 'commune', 'departement'])"
   ]
  },
  {
   "cell_type": "code",
   "execution_count": 84,
   "id": "e4726cbb-b49b-44fa-9f28-e5f9c4c7073c",
   "metadata": {},
   "outputs": [
    {
     "data": {
      "text/html": [
       "<div>\n",
       "<style scoped>\n",
       "    .dataframe tbody tr th:only-of-type {\n",
       "        vertical-align: middle;\n",
       "    }\n",
       "\n",
       "    .dataframe tbody tr th {\n",
       "        vertical-align: top;\n",
       "    }\n",
       "\n",
       "    .dataframe thead th {\n",
       "        text-align: right;\n",
       "    }\n",
       "</style>\n",
       "<table border=\"1\" class=\"dataframe\">\n",
       "  <thead>\n",
       "    <tr style=\"text-align: right;\">\n",
       "      <th></th>\n",
       "      <th>club_name</th>\n",
       "      <th>suffix_url</th>\n",
       "      <th>commune</th>\n",
       "      <th>departement</th>\n",
       "    </tr>\n",
       "  </thead>\n",
       "  <tbody>\n",
       "    <tr>\n",
       "      <th>0</th>\n",
       "      <td>La Tour de Bage</td>\n",
       "      <td>FicheClub.aspx?Ref=2833</td>\n",
       "      <td>BAGE LA VILLE</td>\n",
       "      <td>01</td>\n",
       "    </tr>\n",
       "    <tr>\n",
       "      <th>1</th>\n",
       "      <td>Club d'Echecs de Belley</td>\n",
       "      <td>FicheClub.aspx?Ref=3232</td>\n",
       "      <td>BELLEY</td>\n",
       "      <td>01</td>\n",
       "    </tr>\n",
       "    <tr>\n",
       "      <th>2</th>\n",
       "      <td>Cercle d'Echecs Bressan</td>\n",
       "      <td>FicheClub.aspx?Ref=1168</td>\n",
       "      <td>BOURG EN BRESSE</td>\n",
       "      <td>01</td>\n",
       "    </tr>\n",
       "    <tr>\n",
       "      <th>3</th>\n",
       "      <td>La Tour de la Dombes</td>\n",
       "      <td>FicheClub.aspx?Ref=1171</td>\n",
       "      <td>CHATILLON SUR CHALARONNE</td>\n",
       "      <td>01</td>\n",
       "    </tr>\n",
       "    <tr>\n",
       "      <th>4</th>\n",
       "      <td>Amicale Echecs</td>\n",
       "      <td>FicheClub.aspx?Ref=2725</td>\n",
       "      <td>GEX</td>\n",
       "      <td>01</td>\n",
       "    </tr>\n",
       "    <tr>\n",
       "      <th>...</th>\n",
       "      <td>...</td>\n",
       "      <td>...</td>\n",
       "      <td>...</td>\n",
       "      <td>...</td>\n",
       "    </tr>\n",
       "    <tr>\n",
       "      <th>812</th>\n",
       "      <td>C.E. Air France Siege Roissy</td>\n",
       "      <td>FicheClub.aspx?Ref=934</td>\n",
       "      <td>ROISSY EN FRANCE</td>\n",
       "      <td>95</td>\n",
       "    </tr>\n",
       "    <tr>\n",
       "      <th>813</th>\n",
       "      <td>L'Echiquier de Santeuil</td>\n",
       "      <td>FicheClub.aspx?Ref=2506</td>\n",
       "      <td>SANTEUIL</td>\n",
       "      <td>95</td>\n",
       "    </tr>\n",
       "    <tr>\n",
       "      <th>814</th>\n",
       "      <td>L'Echiquéenne de Survilliers</td>\n",
       "      <td>FicheClub.aspx?Ref=2185</td>\n",
       "      <td>SURVILLIERS</td>\n",
       "      <td>95</td>\n",
       "    </tr>\n",
       "    <tr>\n",
       "      <th>815</th>\n",
       "      <td>Le Pion Passé Vaurealien</td>\n",
       "      <td>FicheClub.aspx?Ref=2810</td>\n",
       "      <td>VAUREAL</td>\n",
       "      <td>95</td>\n",
       "    </tr>\n",
       "    <tr>\n",
       "      <th>816</th>\n",
       "      <td>Carre Clay - Chess Boxing</td>\n",
       "      <td>FicheClub.aspx?Ref=3256</td>\n",
       "      <td>VILLIERS LE BEL</td>\n",
       "      <td>95</td>\n",
       "    </tr>\n",
       "  </tbody>\n",
       "</table>\n",
       "<p>817 rows × 4 columns</p>\n",
       "</div>"
      ],
      "text/plain": [
       "                        club_name               suffix_url  \\\n",
       "0                 La Tour de Bage  FicheClub.aspx?Ref=2833   \n",
       "1         Club d'Echecs de Belley  FicheClub.aspx?Ref=3232   \n",
       "2         Cercle d'Echecs Bressan  FicheClub.aspx?Ref=1168   \n",
       "3            La Tour de la Dombes  FicheClub.aspx?Ref=1171   \n",
       "4                  Amicale Echecs  FicheClub.aspx?Ref=2725   \n",
       "..                            ...                      ...   \n",
       "812  C.E. Air France Siege Roissy   FicheClub.aspx?Ref=934   \n",
       "813       L'Echiquier de Santeuil  FicheClub.aspx?Ref=2506   \n",
       "814  L'Echiquéenne de Survilliers  FicheClub.aspx?Ref=2185   \n",
       "815      Le Pion Passé Vaurealien  FicheClub.aspx?Ref=2810   \n",
       "816     Carre Clay - Chess Boxing  FicheClub.aspx?Ref=3256   \n",
       "\n",
       "                      commune departement  \n",
       "0               BAGE LA VILLE          01  \n",
       "1                      BELLEY          01  \n",
       "2             BOURG EN BRESSE          01  \n",
       "3    CHATILLON SUR CHALARONNE          01  \n",
       "4                         GEX          01  \n",
       "..                        ...         ...  \n",
       "812          ROISSY EN FRANCE          95  \n",
       "813                  SANTEUIL          95  \n",
       "814               SURVILLIERS          95  \n",
       "815                   VAUREAL          95  \n",
       "816           VILLIERS LE BEL          95  \n",
       "\n",
       "[817 rows x 4 columns]"
      ]
     },
     "execution_count": 84,
     "metadata": {},
     "output_type": "execute_result"
    }
   ],
   "source": [
    "df_clubs"
   ]
  },
  {
   "cell_type": "markdown",
   "id": "adf79a36-15d2-42df-b275-59531a8c0a17",
   "metadata": {},
   "source": [
    "## Faire liste joueurs"
   ]
  },
  {
   "cell_type": "code",
   "execution_count": null,
   "id": "ef7c8411-71fb-4e25-bfd9-9b56dfabf0a2",
   "metadata": {},
   "outputs": [],
   "source": []
  }
 ],
 "metadata": {
  "kernelspec": {
   "display_name": "Python 3 (ipykernel)",
   "language": "python",
   "name": "python3"
  },
  "language_info": {
   "codemirror_mode": {
    "name": "ipython",
    "version": 3
   },
   "file_extension": ".py",
   "mimetype": "text/x-python",
   "name": "python",
   "nbconvert_exporter": "python",
   "pygments_lexer": "ipython3",
   "version": "3.10.4"
  }
 },
 "nbformat": 4,
 "nbformat_minor": 5
}
